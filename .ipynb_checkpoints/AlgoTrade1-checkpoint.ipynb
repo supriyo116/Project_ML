{
 "cells": [
  {
   "cell_type": "markdown",
   "id": "ea290443-50d0-443c-8714-9e29b26b688b",
   "metadata": {},
   "source": [
    "# Login"
   ]
  },
  {
   "cell_type": "code",
   "execution_count": 6,
   "id": "31a1c211-2ac8-4ee4-a19c-8197a604b7fd",
   "metadata": {
    "ExecuteTime": {
     "end_time": "2025-03-08T15:36:52.900725Z",
     "start_time": "2025-03-08T15:36:52.883269Z"
    }
   },
   "outputs": [
    {
     "name": "stdout",
     "output_type": "stream",
     "text": [
      "https://api-t1.fyers.in/api/v3/generate-authcode?client_id=24XH7LLI3A-100&redirect_uri=https%3A%2F%2Fwww.google.com&response_type=code&state=None\n"
     ]
    }
   ],
   "source": [
    "# Import the required module from the fyers_apiv3 package\n",
    "from fyers_apiv3 import fyersModel\n",
    "\n",
    "# Replace these values with your actual API credentials\n",
    "client_id = \"24XH7LLI3A-100\"\n",
    "secret_key = \"UPPSVOAWSE\"\n",
    "redirect_uri = \"https://www.google.com\"\n",
    "response_type = \"code\"  \n",
    "state = \"sample_state\"\n",
    "\n",
    "# Create a session model with the provided credentials\n",
    "session = fyersModel.SessionModel(\n",
    "    client_id=client_id,\n",
    "    secret_key=secret_key,\n",
    "    redirect_uri=redirect_uri,\n",
    "    response_type=response_type\n",
    ")\n",
    "\n",
    "# Generate the auth code using the session model\n",
    "response = session.generate_authcode()\n",
    "\n",
    "# Print the auth code received in the response\n",
    "print(response)\n",
    "\n",
    "\n",
    "# ----------------------------------------------------------------------------------\n",
    "# SAMPLE SUCCESS RESPONSE : \n",
    "# ----------------------------------------------------------------------------------\n",
    "\n",
    "# https://api-t1.fyers.in/api/v3/generate-authcode?\n",
    "# client_id=SPXXXXE7-100&\n",
    "# redirect_uri=https%3A%2F%2Fdev.fyers.in%2Fredirection%2Findex.html\n",
    "# &response_type=code&state=sample_state&nonce=sample_nonce\n"
   ]
  },
  {
   "cell_type": "code",
   "execution_count": 7,
   "id": "6bfad45a-34ff-43e2-8c15-32006338dcab",
   "metadata": {
    "scrolled": true
   },
   "outputs": [
    {
     "name": "stdout",
     "output_type": "stream",
     "text": [
      "{'s': 'ok', 'code': 200, 'message': '', 'access_token': 'eyJ0eXAiOiJKV1QiLCJhbGciOiJIUzI1NiJ9.eyJpc3MiOiJhcGkuZnllcnMuaW4iLCJpYXQiOjE3NDE0NTE3ODgsImV4cCI6MTc0MTQ4MDIyOCwibmJmIjoxNzQxNDUxNzg4LCJhdWQiOlsieDowIiwieDoxIiwieDoyIiwiZDoxIiwiZDoyIiwieDoxIiwieDowIl0sInN1YiI6ImFjY2Vzc190b2tlbiIsImF0X2hhc2giOiJnQUFBQUFCbnpISU1UZ0N3blhZelRHeTByLWx0WllINmdqd3dZM185dGZ6bE51OXAwRi0xUkxabnRTVUdRQVExb2JLMUx1X1ltZG80Z0VBcENvZ2g0b3NVYWZlcF90NkxfN20wcGIyMDlyOFlwM3Zoc01TMzU4Zz0iLCJkaXNwbGF5X25hbWUiOiJTVVBSSVlPIEJIQVRUQUNIQVJZQSIsIm9tcyI6IksxIiwiaHNtX2tleSI6ImEyZjNjNmZiNGQzNjcyZmE3YzQxMjliYWFmYjk0MTdiMjRiNTk1OTE5NTdmZjJiZTg2NDYxMzU4IiwiaXNEZHBpRW5hYmxlZCI6Ik4iLCJpc010ZkVuYWJsZWQiOiJOIiwiZnlfaWQiOiJZUzM1ODc1IiwiYXBwVHlwZSI6MTAwLCJwb2FfZmxhZyI6Ik4ifQ.Rs8pQTX7wah46C6FvR_LQZVmFZeSeDwI25Jk7Q3f81M', 'refresh_token': 'eyJ0eXAiOiJKV1QiLCJhbGciOiJIUzI1NiJ9.eyJpc3MiOiJhcGkuZnllcnMuaW4iLCJpYXQiOjE3NDE0NTE3ODgsImV4cCI6MTc0MjY4OTgyOCwibmJmIjoxNzQxNDUxNzg4LCJhdWQiOlsieDowIiwieDoxIiwieDoyIiwiZDoxIiwiZDoyIiwieDoxIiwieDowIl0sInN1YiI6InJlZnJlc2hfdG9rZW4iLCJhdF9oYXNoIjoiZ0FBQUFBQm56SElNVGdDd25YWXpUR3kwci1sdFpZSDZnand3WTNfOXRmemxOdTlwMEYtMVJMWm50U1VHUUFRMW9iSzFMdV9ZbWRvNGdFQXBDb2doNG9zVWFmZXBfdDZMXzdtMHBiMjA5cjhZcDN2aHNNUzM1OGc9IiwiZGlzcGxheV9uYW1lIjoiU1VQUklZTyBCSEFUVEFDSEFSWUEiLCJvbXMiOiJLMSIsImhzbV9rZXkiOiJhMmYzYzZmYjRkMzY3MmZhN2M0MTI5YmFhZmI5NDE3YjI0YjU5NTkxOTU3ZmYyYmU4NjQ2MTM1OCIsImlzRGRwaUVuYWJsZWQiOiJOIiwiaXNNdGZFbmFibGVkIjoiTiIsImZ5X2lkIjoiWVMzNTg3NSIsImFwcFR5cGUiOjEwMCwicG9hX2ZsYWciOiJOIn0.C__FPxTjd115AiQvvUT20gDqxKVGXCsZRBuEmkX7BYg'}\n"
     ]
    }
   ],
   "source": [
    "auth_code = \"eyJ0eXAiOiJKV1QiLCJhbGciOiJIUzI1NiJ9.eyJpc3MiOiJhcGkubG9naW4uZnllcnMuaW4iLCJpYXQiOjE3NDE0NTE3NjYsImV4cCI6MTc0MTQ4MTc2NiwibmJmIjoxNzQxNDUxMTY2LCJhdWQiOiJbXCJ4OjBcIiwgXCJ4OjFcIiwgXCJ4OjJcIiwgXCJkOjFcIiwgXCJkOjJcIiwgXCJ4OjFcIiwgXCJ4OjBcIl0iLCJzdWIiOiJhdXRoX2NvZGUiLCJkaXNwbGF5X25hbWUiOiJZUzM1ODc1Iiwib21zIjoiSzEiLCJoc21fa2V5IjoiYTJmM2M2ZmI0ZDM2NzJmYTdjNDEyOWJhYWZiOTQxN2IyNGI1OTU5MTk1N2ZmMmJlODY0NjEzNTgiLCJpc0RkcGlFbmFibGVkIjoiTiIsImlzTXRmRW5hYmxlZCI6Ik4iLCJub25jZSI6IiIsImFwcF9pZCI6IjI0WEg3TExJM0EiLCJ1dWlkIjoiNjFjYWI2ZGI4ZDhlNGVlY2E5YjI0YTNkNzYwNjg5NDciLCJpcEFkZHIiOiIwLjAuMC4wIiwic2NvcGUiOiIifQ.4zn1s6hntdpcvX2F_EBw7fVSyLu4Q1SyNcgau_1cuIE\"\n",
    "grant_type = \"authorization_code\"  \n",
    "\n",
    "# Create a session object to handle the Fyers API authentication and token generation\n",
    "session = fyersModel.SessionModel(\n",
    "    client_id=client_id,\n",
    "    secret_key=secret_key, \n",
    "    redirect_uri=redirect_uri, \n",
    "    response_type=response_type, \n",
    "    grant_type=grant_type\n",
    ")\n",
    "\n",
    "# Set the authorization code in the session object\n",
    "session.set_token(auth_code)\n",
    "\n",
    "# Generate the access token using the authorization code\n",
    "response = session.generate_token()\n",
    "print(response)\n",
    "# Print the response, which should contain the access token and other details\n"
   ]
  },
  {
   "cell_type": "markdown",
   "id": "237cd179-1e04-4b8e-8a21-4a8885ebf825",
   "metadata": {},
   "source": [
    "# Websocket"
   ]
  },
  {
   "cell_type": "code",
   "execution_count": 21,
   "id": "12b38d55-588a-49f9-94a2-cf60723dcdd5",
   "metadata": {},
   "outputs": [],
   "source": [
    "from fyers_apiv3.FyersWebsocket import data_ws\n",
    "\n",
    "\n",
    "def onmessage(message):\n",
    "    # print(\"Response:\", message['ltp'])\n",
    "    print(\"Response:\",message)\n",
    "\n",
    "\n",
    "def onerror(message):\n",
    "    print(\"Error:\", message)\n",
    "\n",
    "\n",
    "def onclose(message):\n",
    "    print(\"Connection closed:\", message)\n",
    "\n",
    "\n",
    "def onopen():\n",
    "    data_type = \"SymbolUpdate\"\n",
    "    symbols = ['NSE:SBIN-EQ', 'NSE:ADANIENT-EQ']\n",
    "    fyers.subscribe(symbols=symbols, data_type=data_type)\n",
    "    fyers.keep_running()"
   ]
  },
  {
   "cell_type": "code",
   "execution_count": 24,
   "id": "ba790dc9-282b-4530-aff8-3ca52dd25e93",
   "metadata": {},
   "outputs": [
    {
     "name": "stdout",
     "output_type": "stream",
     "text": [
      "Response: {'type': 'cn', 'code': 200, 'message': 'Authentication done', 's': 'ok'}\n",
      "Response: {'type': 'lit', 'code': 200, 'message': 'Lite Mode On', 's': 'ok'}\n",
      "Response: {'type': 'sub', 'code': 200, 'message': 'Subscribed', 's': 'ok'}\n",
      "Response: {'ltp': 732.05, 'symbol': 'NSE:SBIN-EQ', 'type': 'sf'}\n",
      "Response: {'ltp': 2252.85, 'symbol': 'NSE:ADANIENT-EQ', 'type': 'sf'}\n",
      "Error: Connection to remote host was lost.\n",
      "Attempting reconnect 1 of 10...\n",
      "Error: {'type': 'cn', 'code': -99, 'message': 'Token is expired', 's': 'error'}\n",
      "Error: 'FyersModel' object has no attribute 'subscribe'\n"
     ]
    }
   ],
   "source": [
    "from fyers_apiv3.FyersWebsocket import data_ws\n",
    "\n",
    "access_token=response['access_token']\n",
    "\n",
    "fyers = data_ws.FyersDataSocket(\n",
    "    access_token=access_token,       # Access token in the format \"appid:accesstoken\"\n",
    "    log_path=\"\",                     # Path to save logs. Leave empty to auto-create logs in the current directory.\n",
    "    litemode=True,                  # Lite mode disabled. Set to True if you want a lite response.\n",
    "    write_to_file=False,              # Save response in a log file instead of printing it.\n",
    "    reconnect=True,                  # Enable auto-reconnection to WebSocket on disconnection.\n",
    "    on_connect=onopen,               # Callback function to subscribe to data upon connection.\n",
    "    on_close=onclose,                # Callback function to handle WebSocket connection close events.\n",
    "    on_error=onerror,                # Callback function to handle WebSocket errors.\n",
    "    on_message=onmessage,            # Callback function to handle incoming messages from the WebSocket.\n",
    "    reconnect_retry=10               # Number of times reconnection will be attepmted in case\n",
    ")\n",
    "\n",
    "fyers.connect()"
   ]
  },
  {
   "cell_type": "markdown",
   "id": "1eb91e36-30c1-4584-abe8-9634c917b567",
   "metadata": {},
   "source": [
    "# Historical Data and Actual Logic development"
   ]
  },
  {
   "cell_type": "code",
   "execution_count": 10,
   "id": "fba6b66a-4cc0-4961-a5df-facf5adf94d6",
   "metadata": {},
   "outputs": [
    {
     "name": "stdout",
     "output_type": "stream",
     "text": [
      "{'candles': [[1741146300, 717.55, 723.8, 717, 722.45, 711798], [1741146600, 722.7, 723.5, 721.05, 721.75, 207691], [1741146900, 721.75, 722.9, 721, 722.9, 170842], [1741147200, 722.95, 725, 722.65, 724.05, 311386], [1741147500, 723.85, 724.3, 722.65, 722.9, 126832], [1741147800, 722.6, 723.35, 722.4, 722.8, 78477], [1741148100, 722.9, 724.35, 722.7, 724.05, 90487], [1741148400, 724.05, 725.9, 723.55, 725.45, 175857], [1741148700, 725.5, 726.6, 724.7, 725.3, 310589], [1741149000, 725.4, 726.4, 723.4, 723.75, 124512], [1741149300, 723.75, 724.7, 723.25, 724.1, 70223], [1741149600, 724, 724.25, 723.15, 723.55, 230795], [1741149900, 723.25, 723.55, 722, 722.45, 176062], [1741150200, 722.3, 722.4, 721.05, 722.4, 131685], [1741150500, 722.4, 722.55, 721.5, 722.15, 63935], [1741150800, 722.35, 723, 721.5, 722.95, 161365], [1741151100, 723, 723.95, 722.85, 723.35, 93881], [1741151400, 723.35, 724.4, 723.1, 724.35, 151444], [1741151700, 724.35, 724.5, 723.25, 723.25, 159179], [1741152000, 723.4, 724.55, 723.3, 724.3, 68913], [1741152300, 724.3, 724.65, 724, 724.2, 66278], [1741152600, 724.1, 724.8, 723.65, 723.75, 132906], [1741152900, 723.5, 724.2, 722.8, 723, 149100], [1741153200, 722.8, 723.7, 722.4, 722.45, 153374], [1741153500, 722.7, 723.5, 722.05, 723.4, 75967], [1741153800, 723.5, 723.9, 722.75, 723, 56162], [1741154100, 723, 723.75, 722.7, 723.5, 49016], [1741154400, 723.65, 724, 723.45, 724, 49741], [1741154700, 723.95, 724.5, 723.7, 724.45, 84665], [1741155000, 724.5, 724.5, 723.55, 723.9, 77806], [1741155300, 723.85, 724.3, 723.5, 723.5, 54872], [1741155600, 723.7, 724.4, 723.5, 723.5, 57843], [1741155900, 723.8, 724.15, 723.05, 723.25, 111245], [1741156200, 723.6, 724.4, 723.55, 723.85, 57685], [1741156500, 723.85, 724.25, 723.6, 724.05, 31249], [1741156800, 724.05, 724.5, 724, 724.2, 45621], [1741157100, 724.2, 725.05, 724.05, 724.7, 110951], [1741157400, 724.7, 724.75, 724.05, 724.45, 40881], [1741157700, 724.5, 724.6, 724.25, 724.6, 24719], [1741158000, 724.6, 725.45, 724.5, 725.2, 61050], [1741158300, 725.05, 725.35, 724.75, 725.3, 57821], [1741158600, 725.3, 725.45, 724.55, 724.85, 44603], [1741158900, 724.65, 725, 724, 724, 59759], [1741159200, 724.15, 724.5, 724, 724.2, 48241], [1741159500, 724.05, 724.3, 723, 723.05, 146005], [1741159800, 723, 723.85, 722.7, 723.35, 103430], [1741160100, 723.5, 723.85, 722.55, 722.95, 96205], [1741160400, 722.95, 723.95, 722.8, 723.75, 112941], [1741160700, 723.75, 725.35, 723.65, 724.9, 177093], [1741161000, 724.55, 725.3, 724.5, 724.8, 53417], [1741161300, 724.8, 726, 724.5, 725.35, 226939], [1741161600, 725.3, 726.05, 725, 725.75, 346917], [1741161900, 725.7, 726, 725.25, 725.25, 58811], [1741162200, 725.35, 725.35, 724.55, 725, 183651], [1741162500, 725.05, 725.9, 724.9, 725.8, 40981], [1741162800, 725.85, 726.3, 725.5, 726, 87454], [1741163100, 725.7, 726.95, 725.7, 726.8, 93540], [1741163400, 726.85, 726.9, 726, 726.15, 57208], [1741163700, 726.15, 726.85, 726.05, 726.4, 44531], [1741164000, 726.45, 726.7, 726.05, 726.25, 46716], [1741164300, 726.3, 726.3, 725.65, 725.8, 106931], [1741164600, 725.85, 726.65, 725.7, 726.65, 103463], [1741164900, 726.65, 727.8, 726.55, 727.7, 148772], [1741165200, 727.85, 728.4, 727.5, 727.8, 135215], [1741165500, 727.8, 728.7, 727.6, 728.7, 111540], [1741165800, 728.7, 729.8, 728.6, 729.5, 175821], [1741166100, 729.65, 729.8, 729, 729.1, 87155], [1741166400, 729.1, 730, 729, 729.85, 163381], [1741166700, 729.85, 730.45, 729.7, 730.2, 114732], [1741167000, 730.2, 731, 730.05, 730.15, 179384], [1741167300, 730.1, 730.95, 730, 730.35, 206574], [1741167600, 730.3, 731.2, 729.85, 731.05, 309887], [1741167900, 731.05, 731.15, 729.4, 731.1, 501960], [1741168200, 731.05, 731.3, 730, 730.15, 408278], [1741168500, 730, 730.15, 729.25, 730, 422684]], 'code': 200, 'message': '', 's': 'ok'}\n"
     ]
    }
   ],
   "source": [
    "from fyers_apiv3 import fyersModel\n",
    "\n",
    "fyers = fyersModel.FyersModel(client_id=client_id, is_async=False, token=response[\"access_token\"], log_path=\"\")\n",
    "\n",
    "requirement = {\n",
    "    \"symbol\":\"NSE:SBIN-EQ\",\n",
    "    \"resolution\":\"5\",\n",
    "    \"date_format\":\"1\",\n",
    "    \"range_from\":\"2025-03-05\",\n",
    "    \"range_to\":\"2025-03-05\",\n",
    "    \"cont_flag\":\"1\"\n",
    "}\n",
    "\n",
    "data = fyers.history(data=requirement)\n",
    "print(data)"
   ]
  },
  {
   "cell_type": "code",
   "execution_count": 36,
   "id": "29f9a2c0-0da3-4e56-ad00-585ff815fe78",
   "metadata": {},
   "outputs": [
    {
     "name": "stdout",
     "output_type": "stream",
     "text": [
      "            timestamp    open    high     low   close   volume\n",
      "0 2025-03-05 03:45:00  717.55  726.60  717.00  723.55  2609489\n",
      "1 2025-03-05 04:45:00  723.25  724.80  721.05  722.45  1508122\n",
      "2 2025-03-05 05:45:00  722.70  724.50  722.05  724.20   751872\n",
      "3 2025-03-05 06:45:00  724.20  725.45  722.55  723.75   906606\n",
      "4 2025-03-05 07:45:00  723.75  726.95  723.65  726.25  1417258\n",
      "5 2025-03-05 08:45:00  726.30  731.20  725.65  731.05  1842855\n",
      "6 2025-03-05 09:45:00  731.05  731.30  729.25  730.00  1332922\n"
     ]
    }
   ],
   "source": [
    "import pandas as pd\n",
    "\n",
    "# Define column names\n",
    "columns = ['timestamp', 'open', 'high', 'low', 'close', 'volume']\n",
    "\n",
    "# Create DataFrame\n",
    "df = pd.DataFrame(data['candles'], columns=columns)\n",
    "\n",
    "# Convert timestamp to datetime\n",
    "df['timestamp'] = pd.to_datetime(df['timestamp'], unit='s')\n",
    "print(df)"
   ]
  },
  {
   "cell_type": "markdown",
   "id": "ba2dbe2e-802b-435c-8ed5-257d9981df92",
   "metadata": {},
   "source": [
    "# Trade Logic"
   ]
  },
  {
   "cell_type": "markdown",
   "id": "b06a1475748add8f",
   "metadata": {},
   "source": [
    "# Login (Faster)"
   ]
  },
  {
   "cell_type": "code",
   "execution_count": 1,
   "id": "29ff56b4-a70c-4667-b75d-0cfd8ea83ca9",
   "metadata": {
    "ExecuteTime": {
     "end_time": "2025-03-08T15:40:21.740686Z",
     "start_time": "2025-03-08T15:40:21.734842Z"
    }
   },
   "outputs": [
    {
     "name": "stdout",
     "output_type": "stream",
     "text": [
      "https://api-t1.fyers.in/api/v3/generate-authcode?client_id=24XH7LLI3A-100&redirect_uri=https%3A%2F%2Fwww.google.com&response_type=code&state=None\n"
     ]
    }
   ],
   "source": [
    "import login\n",
    "print(login.get_authorization_code())"
   ]
  },
  {
   "cell_type": "code",
   "execution_count": 2,
   "id": "b0802870-61dd-41d2-a521-ac6d1eeabbd6",
   "metadata": {
    "ExecuteTime": {
     "end_time": "2025-03-08T15:40:21.960322Z",
     "start_time": "2025-03-08T15:40:21.956911Z"
    }
   },
   "outputs": [
    {
     "name": "stdout",
     "output_type": "stream",
     "text": [
      "✅ Access Token saved successfully in cred.csv\n"
     ]
    },
    {
     "data": {
      "text/plain": [
       "'eyJ0eXAiOiJKV1QiLCJhbGciOiJIUzI1NiJ9.eyJpc3MiOiJhcGkuZnllcnMuaW4iLCJpYXQiOjE3NDE0NTI5NTcsImV4cCI6MTc0MTQ4MDI1NywibmJmIjoxNzQxNDUyOTU3LCJhdWQiOlsieDowIiwieDoxIiwieDoyIiwiZDoxIiwiZDoyIiwieDoxIiwieDowIl0sInN1YiI6ImFjY2Vzc190b2tlbiIsImF0X2hhc2giOiJnQUFBQUFCbnpIYWQtVEJsV0Q1QmFSbFJVM1FHUFNKQWZNNi03WVBEV20zSEJPYXRlUmlxT1RFdi1qR1Q3VW04QnUwOWozRkFQOTVVX2dZckw0aTh1eXJJdkJSSllzWkJNZzRoMURob1ZITDZLdjM5b3owckZEZz0iLCJkaXNwbGF5X25hbWUiOiJTVVBSSVlPIEJIQVRUQUNIQVJZQSIsIm9tcyI6IksxIiwiaHNtX2tleSI6ImEyZjNjNmZiNGQzNjcyZmE3YzQxMjliYWFmYjk0MTdiMjRiNTk1OTE5NTdmZjJiZTg2NDYxMzU4IiwiaXNEZHBpRW5hYmxlZCI6Ik4iLCJpc010ZkVuYWJsZWQiOiJOIiwiZnlfaWQiOiJZUzM1ODc1IiwiYXBwVHlwZSI6MTAwLCJwb2FfZmxhZyI6Ik4ifQ.wisv34P9lO56C9p1lQZYsN58AagEWngIpuSy9kuOXtY'"
      ]
     },
     "execution_count": 2,
     "metadata": {},
     "output_type": "execute_result"
    }
   ],
   "source": [
    "login.get_access_token(\"eyJ0eXAiOiJKV1QiLCJhbGciOiJIUzI1NiJ9.eyJpc3MiOiJhcGkubG9naW4uZnllcnMuaW4iLCJpYXQiOjE3NDE0NTcxMjUsImV4cCI6MTc0MTQ4NzEyNSwibmJmIjoxNzQxNDU2NTI1LCJhdWQiOiJbXCJ4OjBcIiwgXCJ4OjFcIiwgXCJ4OjJcIiwgXCJkOjFcIiwgXCJkOjJcIiwgXCJ4OjFcIiwgXCJ4OjBcIl0iLCJzdWIiOiJhdXRoX2NvZGUiLCJkaXNwbGF5X25hbWUiOiJZUzM1ODc1Iiwib21zIjoiSzEiLCJoc21fa2V5IjoiYTJmM2M2ZmI0ZDM2NzJmYTdjNDEyOWJhYWZiOTQxN2IyNGI1OTU5MTk1N2ZmMmJlODY0NjEzNTgiLCJpc0RkcGlFbmFibGVkIjoiTiIsImlzTXRmRW5hYmxlZCI6Ik4iLCJub25jZSI6IiIsImFwcF9pZCI6IjI0WEg3TExJM0EiLCJ1dWlkIjoiNmZhYjMxMzA5OTBmNDkyMGJhMzJlOGJiMWFlNDViOGEiLCJpcEFkZHIiOiIwLjAuMC4wIiwic2NvcGUiOiIifQ.jIRpYR_80Qr_2tXijYmi5_uy-oT1IbH6oPU3KH-sLJo\")"
   ]
  },
  {
   "cell_type": "code",
   "execution_count": 1,
   "id": "5997124a4cc521a8",
   "metadata": {},
   "outputs": [],
   "source": [
    "import history\n",
    "\n",
    "df_5m = history.fetch_historical_data(\"NSE:SBIN-EQ\", \"5\")"
   ]
  },
  {
   "cell_type": "code",
   "execution_count": 4,
   "id": "16df49ae-d098-4d04-a519-28fea72125f1",
   "metadata": {},
   "outputs": [
    {
     "name": "stdout",
     "output_type": "stream",
     "text": [
      "✅ WebSocket started!\n",
      "Response: {'type': 'cn', 'code': 200, 'message': 'Authentication done', 's': 'ok'}\n",
      "Response: {'type': 'lit', 'code': 200, 'message': 'Lite Mode On', 's': 'ok'}\n",
      "Response: {'type': 'sub', 'code': 200, 'message': 'Subscribed', 's': 'ok'}\n",
      "Response: {'ltp': 732.75, 'symbol': 'NSE:SBIN-EQ', 'type': 'sf'}\n",
      "Response: {'ltp': 2247.5, 'symbol': 'NSE:ADANIENT-EQ', 'type': 'sf'}\n",
      "Error: Connection to remote host was lost.\n",
      "Attempting reconnect 1 of 10...\n",
      "Response: {'type': 'cn', 'code': 200, 'message': 'Authentication done', 's': 'ok'}\n",
      "Response: {'type': 'lit', 'code': 200, 'message': 'Lite Mode On', 's': 'ok'}\n",
      "Response: {'type': 'sub', 'code': 200, 'message': 'Subscribed', 's': 'ok'}\n",
      "Response: {'ltp': 732.75, 'symbol': 'NSE:SBIN-EQ', 'type': 'sf'}\n",
      "Response: {'ltp': 2247.5, 'symbol': 'NSE:ADANIENT-EQ', 'type': 'sf'}\n"
     ]
    }
   ],
   "source": [
    "from web_socket import livedata\n",
    "\n",
    "ws = livedata(symbols=['NSE:SBIN-EQ', 'NSE:ADANIENT-EQ'])\n",
    "\n",
    "ws.start()"
   ]
  },
  {
   "cell_type": "code",
   "execution_count": 15,
   "id": "eb3977fc-134e-4555-80fd-dbc0634437d4",
   "metadata": {},
   "outputs": [
    {
     "name": "stdout",
     "output_type": "stream",
     "text": [
      "1741451971\n"
     ]
    }
   ],
   "source": []
  },
  {
   "cell_type": "code",
   "execution_count": 2,
   "id": "3bc6bbe7-adc1-4b15-87b8-6d433655ad70",
   "metadata": {},
   "outputs": [
    {
     "data": {
      "text/html": [
       "<div>\n",
       "<style scoped>\n",
       "    .dataframe tbody tr th:only-of-type {\n",
       "        vertical-align: middle;\n",
       "    }\n",
       "\n",
       "    .dataframe tbody tr th {\n",
       "        vertical-align: top;\n",
       "    }\n",
       "\n",
       "    .dataframe thead th {\n",
       "        text-align: right;\n",
       "    }\n",
       "</style>\n",
       "<table border=\"1\" class=\"dataframe\">\n",
       "  <thead>\n",
       "    <tr style=\"text-align: right;\">\n",
       "      <th></th>\n",
       "      <th>timestamp</th>\n",
       "      <th>open</th>\n",
       "      <th>high</th>\n",
       "      <th>low</th>\n",
       "      <th>close</th>\n",
       "      <th>volume</th>\n",
       "    </tr>\n",
       "  </thead>\n",
       "  <tbody>\n",
       "    <tr>\n",
       "      <th>0</th>\n",
       "      <td>2025-03-06 09:15:00</td>\n",
       "      <td>736.00</td>\n",
       "      <td>736.75</td>\n",
       "      <td>732.30</td>\n",
       "      <td>732.30</td>\n",
       "      <td>570040</td>\n",
       "    </tr>\n",
       "    <tr>\n",
       "      <th>1</th>\n",
       "      <td>2025-03-06 09:20:00</td>\n",
       "      <td>732.30</td>\n",
       "      <td>733.10</td>\n",
       "      <td>728.05</td>\n",
       "      <td>728.70</td>\n",
       "      <td>495214</td>\n",
       "    </tr>\n",
       "    <tr>\n",
       "      <th>2</th>\n",
       "      <td>2025-03-06 09:25:00</td>\n",
       "      <td>728.60</td>\n",
       "      <td>730.80</td>\n",
       "      <td>728.50</td>\n",
       "      <td>730.10</td>\n",
       "      <td>440779</td>\n",
       "    </tr>\n",
       "    <tr>\n",
       "      <th>3</th>\n",
       "      <td>2025-03-06 09:30:00</td>\n",
       "      <td>730.15</td>\n",
       "      <td>730.15</td>\n",
       "      <td>727.00</td>\n",
       "      <td>727.50</td>\n",
       "      <td>287244</td>\n",
       "    </tr>\n",
       "    <tr>\n",
       "      <th>4</th>\n",
       "      <td>2025-03-06 09:35:00</td>\n",
       "      <td>727.40</td>\n",
       "      <td>730.65</td>\n",
       "      <td>727.40</td>\n",
       "      <td>729.55</td>\n",
       "      <td>181107</td>\n",
       "    </tr>\n",
       "    <tr>\n",
       "      <th>...</th>\n",
       "      <td>...</td>\n",
       "      <td>...</td>\n",
       "      <td>...</td>\n",
       "      <td>...</td>\n",
       "      <td>...</td>\n",
       "      <td>...</td>\n",
       "    </tr>\n",
       "    <tr>\n",
       "      <th>145</th>\n",
       "      <td>2025-03-07 15:05:00</td>\n",
       "      <td>732.75</td>\n",
       "      <td>733.25</td>\n",
       "      <td>732.25</td>\n",
       "      <td>733.15</td>\n",
       "      <td>266452</td>\n",
       "    </tr>\n",
       "    <tr>\n",
       "      <th>146</th>\n",
       "      <td>2025-03-07 15:10:00</td>\n",
       "      <td>733.20</td>\n",
       "      <td>733.70</td>\n",
       "      <td>733.05</td>\n",
       "      <td>733.10</td>\n",
       "      <td>176874</td>\n",
       "    </tr>\n",
       "    <tr>\n",
       "      <th>147</th>\n",
       "      <td>2025-03-07 15:15:00</td>\n",
       "      <td>733.10</td>\n",
       "      <td>733.20</td>\n",
       "      <td>732.05</td>\n",
       "      <td>732.55</td>\n",
       "      <td>234549</td>\n",
       "    </tr>\n",
       "    <tr>\n",
       "      <th>148</th>\n",
       "      <td>2025-03-07 15:20:00</td>\n",
       "      <td>732.55</td>\n",
       "      <td>733.15</td>\n",
       "      <td>732.10</td>\n",
       "      <td>733.15</td>\n",
       "      <td>269205</td>\n",
       "    </tr>\n",
       "    <tr>\n",
       "      <th>149</th>\n",
       "      <td>2025-03-07 15:25:00</td>\n",
       "      <td>733.10</td>\n",
       "      <td>733.20</td>\n",
       "      <td>730.80</td>\n",
       "      <td>732.00</td>\n",
       "      <td>168758</td>\n",
       "    </tr>\n",
       "  </tbody>\n",
       "</table>\n",
       "<p>150 rows × 6 columns</p>\n",
       "</div>"
      ],
      "text/plain": [
       "              timestamp    open    high     low   close  volume\n",
       "0   2025-03-06 09:15:00  736.00  736.75  732.30  732.30  570040\n",
       "1   2025-03-06 09:20:00  732.30  733.10  728.05  728.70  495214\n",
       "2   2025-03-06 09:25:00  728.60  730.80  728.50  730.10  440779\n",
       "3   2025-03-06 09:30:00  730.15  730.15  727.00  727.50  287244\n",
       "4   2025-03-06 09:35:00  727.40  730.65  727.40  729.55  181107\n",
       "..                  ...     ...     ...     ...     ...     ...\n",
       "145 2025-03-07 15:05:00  732.75  733.25  732.25  733.15  266452\n",
       "146 2025-03-07 15:10:00  733.20  733.70  733.05  733.10  176874\n",
       "147 2025-03-07 15:15:00  733.10  733.20  732.05  732.55  234549\n",
       "148 2025-03-07 15:20:00  732.55  733.15  732.10  733.15  269205\n",
       "149 2025-03-07 15:25:00  733.10  733.20  730.80  732.00  168758\n",
       "\n",
       "[150 rows x 6 columns]"
      ]
     },
     "execution_count": 2,
     "metadata": {},
     "output_type": "execute_result"
    }
   ],
   "source": []
  },
  {
   "cell_type": "code",
   "execution_count": null,
   "id": "555d648c-84ef-49f3-b6bf-151a0995b37e",
   "metadata": {},
   "outputs": [],
   "source": []
  }
 ],
 "metadata": {
  "kernelspec": {
   "display_name": "Python 3 (ipykernel)",
   "language": "python",
   "name": "python3"
  },
  "language_info": {
   "codemirror_mode": {
    "name": "ipython",
    "version": 3
   },
   "file_extension": ".py",
   "mimetype": "text/x-python",
   "name": "python",
   "nbconvert_exporter": "python",
   "pygments_lexer": "ipython3",
   "version": "3.12.6"
  }
 },
 "nbformat": 4,
 "nbformat_minor": 5
}
