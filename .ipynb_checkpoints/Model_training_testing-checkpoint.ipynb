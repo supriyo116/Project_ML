{
 "cells": [
  {
   "cell_type": "markdown",
   "id": "4406cf97-6c6b-4a81-991f-2d4174fc14ac",
   "metadata": {},
   "source": [
    "# Login"
   ]
  },
  {
   "cell_type": "code",
   "execution_count": 1,
   "id": "5e0bd518-f3b0-4add-8e21-110d567ec660",
   "metadata": {},
   "outputs": [
    {
     "name": "stdout",
     "output_type": "stream",
     "text": [
      "https://api-t1.fyers.in/api/v3/generate-authcode?client_id=24XH7LLI3A-100&redirect_uri=https%3A%2F%2Fwww.google.com&response_type=code&state=None\n"
     ]
    }
   ],
   "source": [
    "import login\n",
    "print(login.get_authorization_code())"
   ]
  },
  {
   "cell_type": "code",
   "execution_count": 2,
   "id": "b76ce6b6-b2b4-453c-b56c-4045b4031b0e",
   "metadata": {},
   "outputs": [
    {
     "name": "stdout",
     "output_type": "stream",
     "text": [
      "✅ Access Token saved successfully in cred.csv\n",
      "🔄 Refresh Token saved (valid for 15 days)\n"
     ]
    },
    {
     "data": {
      "text/plain": [
       "'eyJ0eXAiOiJKV1QiLCJhbGciOiJIUzI1NiJ9.eyJpc3MiOiJhcGkuZnllcnMuaW4iLCJpYXQiOjE3NDE1MjkwMzgsImV4cCI6MTc0MTU2NjY1OCwibmJmIjoxNzQxNTI5MDM4LCJhdWQiOlsieDowIiwieDoxIiwieDoyIiwiZDoxIiwiZDoyIiwieDoxIiwieDowIl0sInN1YiI6ImFjY2Vzc190b2tlbiIsImF0X2hhc2giOiJnQUFBQUFCbnpaX09QWHprTTdCUTEzU0pWT0FUanlkQTBoSnhOc3ZLcmFUNU9fLXpFbkJOczFpNzFnNWZDSHdwSGFjajJDNXlObHhxUGNGZi1zdThVb05aSXlwZlBsUnRXdVBnODBWVzZ5dDBCcHZiNUF4YXVvdz0iLCJkaXNwbGF5X25hbWUiOiJTVVBSSVlPIEJIQVRUQUNIQVJZQSIsIm9tcyI6IksxIiwiaHNtX2tleSI6ImEyZjNjNmZiNGQzNjcyZmE3YzQxMjliYWFmYjk0MTdiMjRiNTk1OTE5NTdmZjJiZTg2NDYxMzU4IiwiaXNEZHBpRW5hYmxlZCI6Ik4iLCJpc010ZkVuYWJsZWQiOiJOIiwiZnlfaWQiOiJZUzM1ODc1IiwiYXBwVHlwZSI6MTAwLCJwb2FfZmxhZyI6Ik4ifQ.PtLSxYuGSYPQCisqld-TXOkBKRZgwR4RamBm2G85_4w'"
      ]
     },
     "execution_count": 2,
     "metadata": {},
     "output_type": "execute_result"
    }
   ],
   "source": [
    "import pandas as pd\n",
    "\n",
    "config_df = pd.read_csv(\"cred.csv\")\n",
    "config = config_df.iloc[0].to_dict()\n",
    "refresh_token = config[\"refresh_token\"]\n",
    "\n",
    "login.get_access_token(refresh_token,login_type=\"refresh_token\")"
   ]
  },
  {
   "cell_type": "markdown",
   "id": "4a929b9e-982e-454f-9888-31c02880d96f",
   "metadata": {},
   "source": [
    "# Data Fetching and Data Analysis"
   ]
  },
  {
   "cell_type": "code",
   "execution_count": null,
   "id": "d11d85ed-3595-4fd3-9e8f-7ab86df2d032",
   "metadata": {},
   "outputs": [],
   "source": [
    "import datetime\n",
    "\n",
    "def generate_future_symbol(product_code, expiry_date, exchange=\"MCX\"):\n",
    "    year_str = expiry_date.strftime(\"%y\")    # Two-digit year, e.g., \"25\"\n",
    "    month_str = expiry_date.strftime(\"%b\").upper()  # Month in uppercase, e.g., \"MAR\"\n",
    "    symbol = f\"{exchange}:{product_code}{year_str}{month_str}FUT\"\n",
    "    return symbol\n",
    "\n",
    "# Example usage:\n",
    "expiry_date = datetime.date(2025, 3, 1)  # Assuming March 2025 contract\n",
    "symbol = generate_future_symbol(\"CRUDEOILM\", expiry_date)\n",
    "print(symbol)  # Output: MCX:CRUDEOILM25MARFUT\n"
   ]
  },
  {
   "cell_type": "code",
   "execution_count": 21,
   "id": "f462c3c1-d2ea-4ce2-88ee-1e3707e2a609",
   "metadata": {},
   "outputs": [
    {
     "name": "stdout",
     "output_type": "stream",
     "text": [
      "Fetching data from 2023-10-26 to 2024-02-03...\n",
      "Fetching data from 2024-02-03 to 2024-05-13...\n",
      "Fetching data from 2024-05-13 to 2024-08-21...\n",
      "Fetching data from 2024-08-21 to 2024-11-29...\n",
      "Fetching data from 2024-11-29 to 2025-03-09...\n",
      "✅ DataFrame is ready for analysis!\n",
      "✅ Data saved to model_train.csv\n"
     ]
    }
   ],
   "source": [
    "import pandas as pd\n",
    "import datetime\n",
    "import time\n",
    "from fyers_apiv3 import fyersModel\n",
    "\n",
    "# Load credentials from CSV\n",
    "config = pd.read_csv(\"cred.csv\").iloc[0].to_dict()\n",
    "client_id = config[\"client_id\"]\n",
    "access_token = config[\"access_token\"]\n",
    "\n",
    "# Initialize FYERS Model\n",
    "fyers = fyersModel.FyersModel(client_id=client_id, is_async=False, token=access_token, log_path=\"\")\n",
    "\n",
    "# Define symbol and date range parameters\n",
    "symbol = \"MCX:CRUDEOILM25MARFUT\"  # Your chosen symbol\n",
    "chunk_size = 100  # days per request (FYERS API limit)\n",
    "total_days = 500  # Total days to fetch\n",
    "\n",
    "end_date = datetime.datetime.today()\n",
    "start_date = end_date - datetime.timedelta(days=total_days)\n",
    "\n",
    "# Store all data\n",
    "all_data = []\n",
    "\n",
    "# Fetch data in chunks of 100 days (5 iterations for 500 days)\n",
    "for _ in range(5):\n",
    "    next_end_date = start_date + datetime.timedelta(days=chunk_size)\n",
    "    if next_end_date > end_date:\n",
    "        next_end_date = end_date\n",
    "\n",
    "    requirement = {\n",
    "        \"symbol\": symbol,\n",
    "        \"resolution\": \"30\",  # 30-minute candles\n",
    "        \"date_format\": \"1\",  # YYYY-MM-DD format\n",
    "        \"range_from\": start_date.strftime(\"%Y-%m-%d\"),\n",
    "        \"range_to\": next_end_date.strftime(\"%Y-%m-%d\"),\n",
    "        \"cont_flag\": \"1\"\n",
    "    }\n",
    "\n",
    "    print(f\"Fetching data from {requirement['range_from']} to {requirement['range_to']}...\")\n",
    "    try:\n",
    "        response = fyers.history(data=requirement)\n",
    "        if \"candles\" in response:\n",
    "            df = pd.DataFrame(response[\"candles\"], columns=[\"timestamp\", \"open\", \"high\", \"low\", \"close\", \"volume\"])\n",
    "            # Convert timestamp from Unix to datetime and add 5 hours 30 minutes for IST conversion\n",
    "            df[\"timestamp\"] = pd.to_datetime(df[\"timestamp\"], unit=\"s\") + pd.Timedelta(hours=5, minutes=30)\n",
    "            all_data.append(df)\n",
    "        else:\n",
    "            print(\"No data found:\", response)\n",
    "    except Exception as e:\n",
    "        print(\"Error:\", e)\n",
    "\n",
    "    # Move start_date forward\n",
    "    start_date = next_end_date\n",
    "    time.sleep(1)  # To avoid API rate limits\n",
    "\n",
    "# Combine all chunks into a single DataFrame\n",
    "if all_data:\n",
    "    final_df = pd.concat(all_data).sort_values(by=\"timestamp\")\n",
    "    print(\"✅ DataFrame is ready for analysis!\")\n",
    "else:\n",
    "    final_df = pd.DataFrame()\n",
    "    print(\"❌ No data retrieved.\")\n",
    "\n",
    "# Save the DataFrame to a CSV file\n",
    "final_df.to_csv(\"model_train.csv\", index=False)\n",
    "print(\"✅ Data saved to model_train.csv\")\n"
   ]
  },
  {
   "cell_type": "code",
   "execution_count": 22,
   "id": "54f79959-1704-48df-a97f-966e9ef93ae4",
   "metadata": {},
   "outputs": [
    {
     "data": {
      "text/plain": [
       "(10161, 6)"
      ]
     },
     "execution_count": 22,
     "metadata": {},
     "output_type": "execute_result"
    }
   ],
   "source": [
    "final_df.shape"
   ]
  },
  {
   "cell_type": "code",
   "execution_count": null,
   "id": "5d0840d9-7994-4a6e-b62f-989638169aa8",
   "metadata": {},
   "outputs": [],
   "source": []
  }
 ],
 "metadata": {
  "kernelspec": {
   "display_name": "Python 3 (ipykernel)",
   "language": "python",
   "name": "python3"
  },
  "language_info": {
   "codemirror_mode": {
    "name": "ipython",
    "version": 3
   },
   "file_extension": ".py",
   "mimetype": "text/x-python",
   "name": "python",
   "nbconvert_exporter": "python",
   "pygments_lexer": "ipython3",
   "version": "3.12.6"
  }
 },
 "nbformat": 4,
 "nbformat_minor": 5
}
