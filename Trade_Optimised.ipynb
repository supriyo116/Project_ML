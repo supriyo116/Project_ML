{
 "cells": [
  {
   "cell_type": "markdown",
   "id": "8d1414ab-841d-44b9-8bf5-7d8d341594c9",
   "metadata": {},
   "source": [
    "# Login"
   ]
  },
  {
   "cell_type": "markdown",
   "id": "7a02a6b3-36d8-4452-9bea-3078eed93d1a",
   "metadata": {},
   "source": [
    "Refresh Token (09/03/2025): 'eyJ0eXAiOiJKV1QiLCJhbGciOiJIUzI1NiJ9.eyJpc3MiOiJhcGkuZnllcnMuaW4iLCJpYXQiOjE3NDE1MTM2MDYsImV4cCI6MTc0Mjc3NjI0NywibmJmIjoxNzQxNTEzNjA2LCJhdWQiOlsieDowIiwieDoxIiwieDoyIiwiZDoxIiwiZDoyIiwieDoxIiwieDowIl0sInN1YiI6InJlZnJlc2hfdG9rZW4iLCJhdF9oYXNoIjoiZ0FBQUFBQm56V09HUnFmYVpJdUU1RS1LLXRRN1JMaUdtRzJxdjhCWm83NUROWVBkamVCWGtsNDNELXg0U0o4VkpKR3U3YnpqYl9IRGJHc3lVVWdza1pDZHhSa2NIMXFYTTh6cXdsRUZCVEZRSm83SnR3SEt6QkE9IiwiZGlzcGxheV9uYW1lIjoiU1VQUklZTyBCSEFUVEFDSEFSWUEiLCJvbXMiOiJLMSIsImhzbV9rZXkiOiJhMmYzYzZmYjRkMzY3MmZhN2M0MTI5YmFhZmI5NDE3YjI0YjU5NTkxOTU3ZmYyYmU4NjQ2MTM1OCIsImlzRGRwaUVuYWJsZWQiOiJOIiwiaXNNdGZFbmFibGVkIjoiTiIsImZ5X2lkIjoiWVMzNTg3NSIsImFwcFR5cGUiOjEwMCwicG9hX2ZsYWciOiJOIn0.FOiTCPcLGpCkximPLw3e3f0yfsxXKCtQviqMUVlDFXw'\n",
    "\n",
    "\n",
    "For LTP initiate TradeManage -> will initiate websocket -> tm.fetchltp()"
   ]
  },
  {
   "cell_type": "code",
   "execution_count": null,
   "id": "b8e859a1-1e61-4521-ae9f-37cad1552b47",
   "metadata": {},
   "outputs": [],
   "source": [
    "import login\n",
    "print(login.get_authorization_code())"
   ]
  },
  {
   "cell_type": "code",
   "execution_count": null,
   "id": "cf39c686-dc7c-486b-a23c-308f21847c8f",
   "metadata": {},
   "outputs": [],
   "source": [
    "import pandas as pd\n",
    "\n",
    "config_df = pd.read_csv(\"cred.csv\")\n",
    "config = config_df.iloc[0].to_dict()\n",
    "refresh_token = config[\"refresh_token\"]\n",
    "\n",
    "login.get_access_token(refresh_token,login_type=\"refresh_token\")"
   ]
  },
  {
   "cell_type": "code",
   "execution_count": null,
   "id": "2b374b9d-68c0-42ab-a0ec-5797b353520a",
   "metadata": {},
   "outputs": [],
   "source": [
    "#Define Trade Symbol and QTY\n",
    "\n",
    "symbol=\"MCX:CRUDEOILM25MARFUT\"\n",
    "qty=1\n",
    "mode=\"Auto\"      #Use Manual for Debugging\n",
    "MaxLoss=-500"
   ]
  },
  {
   "cell_type": "markdown",
   "id": "d16e49d7-4eee-46b8-9993-80d860e80f2f",
   "metadata": {},
   "source": [
    "# Fetch Historical data(also SuperTrend and other parameters calculations) and Start Websocket"
   ]
  },
  {
   "cell_type": "code",
   "execution_count": null,
   "id": "7a4d970d-81c0-41ed-8194-f528c19f8698",
   "metadata": {},
   "outputs": [],
   "source": [
    "#Continuously updating historical data df_5m and df_30m for calculations\n",
    "\n",
    "import history\n",
    "import schedule\n",
    "import threading\n",
    "import time\n",
    "\n",
    "# === Step 1: Fetch Historical Data Before Market Starts ===\n",
    "df_60m = history.fetch_historical_data(symbol, \"60\")\n",
    "\n",
    "print(\"Initial data loaded:\")\n",
    "print(\"df_60m:\", df_30m.shape)\n",
    "\n",
    "def update_df_60m():\n",
    "    global df_30m\n",
    "    print(\"Updating df_60m at\", time.strftime(\"%H:%M:%S\"))\n",
    "    df_60m = history.fetch_historical_data(symbol, \"60\")\n",
    "    print(\"df_30m updated:\", df_30m.shape)\n",
    "\n",
    "\n",
    "schedule.every(30).minutes.do(update_df_60m)\n",
    "\n",
    "def run_scheduler():\n",
    "    while True:\n",
    "        schedule.run_pending()\n",
    "        time.sleep(300)\n",
    "\n",
    "# === Step 4: Start the Scheduler in a Background Thread ===\n",
    "scheduler_thread = threading.Thread(target=run_scheduler, daemon=True)\n",
    "scheduler_thread.start()\n",
    "\n",
    "print(\"Scheduler for updating df_60m started.\")\n"
   ]
  },
  {
   "cell_type": "markdown",
   "id": "6366ff99-bb2a-4d90-af5f-b2d882dab164",
   "metadata": {},
   "source": [
    "# Logic implementation and Trading"
   ]
  },
  {
   "cell_type": "code",
   "execution_count": null,
   "id": "2edb0fe9-aea2-4467-a0c5-1ec885c5dcae",
   "metadata": {},
   "outputs": [],
   "source": [
    "import threading\n",
    "import time\n",
    "from TradeLogic2 import signal   #Importing trading algorithm\n",
    "\n",
    "decision = None \n",
    "\n",
    "def signal_loop():\n",
    "    global decision\n",
    "    while True:\n",
    "        # decision = signal(df_5m, df_30m)\n",
    "        decision=signal(df_60m)\n",
    "        time.sleep(300)\n",
    "# Run the signal loop in a background thread\n",
    "signal_thread = threading.Thread(target=signal_loop, daemon=True)\n",
    "signal_thread.start()\n",
    "\n",
    "#Continuos signal generation"
   ]
  },
  {
   "cell_type": "code",
   "execution_count": null,
   "id": "136a0c21-c8bd-4c0e-9c14-ed54c67c3845",
   "metadata": {},
   "outputs": [],
   "source": [
    "from TradeAction import TradeManager  \n",
    "\n",
    "tm = TradeManager(symbol,qty,mode,MaxLoss)  \n",
    "\n",
    "def TradeEngine(MaxLoss=-500, decision=None, mode=\"Auto\"): \n",
    "    \n",
    "    current_time = datetime.now().strftime(\"%Y-%m-%d %H:%M:%S\")\n",
    "    \n",
    "    try:\n",
    "        current_mtm = tm.mtm()\n",
    "        if current_mtm is None:\n",
    "            print(\"Error in MTM calculation\")\n",
    "            return \"MTM calculation error\"\n",
    "\n",
    "        if current_mtm > MaxLoss:\n",
    "            print('Trading started')\n",
    "\n",
    "            if decision == 1:\n",
    "                if mode==\"Manual\":\n",
    "                    print(f\"[{current_time}] 📢 Take a LONG position\")\n",
    "                    return \"Long signal generated\"\n",
    "                elif mode==\"Auto\":\n",
    "                    result = tm.longentry(tm.position, tm.SL_order, tm.spl_last_pos, MaxLoss)\n",
    "                    if result == \"Daily Stop Loss reached\":\n",
    "                        return result\n",
    "                        \n",
    "            elif decision == -1:\n",
    "                if mode==\"Manual\":\n",
    "                    print(f\"[{current_time}] 📢 Take a SHORT position\")\n",
    "                    return \"Short signal generated\"\n",
    "                elif mode==\"Auto\":\n",
    "                    result = tm.shortentry(tm.position, tm.SL_order, tm.spl_last_pos, MaxLoss)\n",
    "                    if result == \"Daily Stop Loss reached\":\n",
    "                        return result\n",
    "            else:\n",
    "                print(\"No clear trading signal\")\n",
    "                return \"No clear trading signal\"\n",
    "\n",
    "        else:\n",
    "            print(\"MaxLoss Breached\")\n",
    "            return \"MaxLoss Breached\"\n",
    "\n",
    "    except Exception as e:\n",
    "        print(f\"Error in TradeEngine: {e}\")\n",
    "        # Emergency exit for all open positions\n",
    "        tm.emergency_exit()\n"
   ]
  },
  {
   "cell_type": "markdown",
   "id": "200f7d0b-6cbd-4f2e-b5ab-4c019e4ef94c",
   "metadata": {},
   "source": [
    "# Press \"I\" twice to stop trading"
   ]
  },
  {
   "cell_type": "code",
   "execution_count": null,
   "id": "c8b77162-fd1a-4a92-8525-fb65821830e5",
   "metadata": {},
   "outputs": [],
   "source": [
    "# Start Trading \n",
    "from datetime import datetime  \n",
    "\n",
    "while True:\n",
    "    try:\n",
    "        result=TradeEngine(MaxLoss,decision,mode)\n",
    "        print(f\"Trade decision: {result}\")\n",
    "        if result==\"MTM calculation error\" or result==\"Daily Stop Loss reached\" or result==\"MaxLoss Breached\":\n",
    "            print(\"Trade engine stopping due to....\",result)\n",
    "            tm.emergency_exit()\n",
    "            break\n",
    "        time.sleep(5)\n",
    "        \n",
    "    except KeyboardInterrupt:\n",
    "        print(\"🚨 Trading session manually stopped.\")\n",
    "        break  \n",
    "\n",
    "    except Exception as e:\n",
    "        print(f\"❌ Error in trading loop: {e}\")\n",
    "        break \n"
   ]
  },
  {
   "cell_type": "code",
   "execution_count": null,
   "id": "fd821c89-f6a4-4835-b063-20ba48b21500",
   "metadata": {},
   "outputs": [],
   "source": [
    "# import csv\n",
    "# import time\n",
    "# from datetime import datetime  \n",
    "\n",
    "# # Define CSV file path\n",
    "# csv_file = \"trade_results.csv\"\n",
    "\n",
    "# # Ensure the CSV has headers if it does not exist\n",
    "# with open(csv_file, mode='a', newline='') as file:\n",
    "#     writer = csv.writer(file)\n",
    "#     if file.tell() == 0:  # If file is empty, write headers\n",
    "#         writer.writerow([\"Timestamp\", \"Trade Decision\"])\n",
    "\n",
    "# while True:\n",
    "#     try:\n",
    "#         result = TradeEngine(MaxLoss, decision, mode)\n",
    "#         print(f\"Trade decision: {result}\")\n",
    "\n",
    "#         # Append result to CSV\n",
    "#         with open(csv_file, mode='a', newline='') as file:\n",
    "#             writer = csv.writer(file)\n",
    "#             writer.writerow([datetime.now().strftime(\"%Y-%m-%d %H:%M:%S\"), result])\n",
    "\n",
    "#         # Stop if certain conditions are met\n",
    "#         if result in [\"MTM calculation error\", \"Daily Stop Loss reached\", \"MaxLoss Breached\"]:\n",
    "#             print(\"Trade engine stopping due to....\", result)\n",
    "#             tm.emergency_exit()\n",
    "#             break\n",
    "\n",
    "#         time.sleep(5)\n",
    "\n",
    "#     except KeyboardInterrupt:\n",
    "#         print(\"🚨 Trading session manually stopped.\")\n",
    "#         break  \n",
    "\n",
    "#     except Exception as e:\n",
    "#         print(f\"❌ Error in trading loop: {e}\")\n",
    "#         break  \n"
   ]
  },
  {
   "cell_type": "code",
   "execution_count": null,
   "id": "c1d77187-5d8d-4c90-9f46-b1522d51b6a8",
   "metadata": {},
   "outputs": [],
   "source": [
    "import sys\n",
    "print(sys.executable)"
   ]
  },
  {
   "cell_type": "code",
   "execution_count": null,
   "id": "2156caed-2d08-42ed-bcc5-7778ea67919c",
   "metadata": {},
   "outputs": [],
   "source": [
    "from graphviz import Digraph\n",
    "\n",
    "# Create a directed graph\n",
    "dot = Digraph(format='png')\n",
    "\n",
    "# Nodes for data source and preprocessing steps\n",
    "dot.node('A', 'data_source - 11 col')\n",
    "dot.node('B', 'DateTime')\n",
    "dot.node('C', 'Numeric')\n",
    "dot.node('D', 'ModeCatImputer-StringCast-DateTimeTransformer')\n",
    "dot.node('E', 'MeanImputer')\n",
    "dot.node('F', 'StandardScalerWrapper')\n",
    "dot.node('G', 'RandomForestClassifier')\n",
    "\n",
    "# Connect nodes to show the flow\n",
    "dot.edge('A', 'B', label='1 col')\n",
    "dot.edge('A', 'C', label='10 col')\n",
    "dot.edge('B', 'D')\n",
    "dot.edge('C', 'E')\n",
    "dot.edge('D', 'F', label='10 col')\n",
    "dot.edge('E', 'F', label='1 col')\n",
    "dot.edge('F', 'G')\n",
    "\n",
    "# Save and render the graph\n",
    "dot.render('flowchart')\n"
   ]
  },
  {
   "cell_type": "code",
   "execution_count": null,
   "id": "733cf109-f408-4295-a418-385c0b52135e",
   "metadata": {},
   "outputs": [],
   "source": []
  }
 ],
 "metadata": {
  "kernelspec": {
   "display_name": "Python (project_env)",
   "language": "python",
   "name": "project_env"
  },
  "language_info": {
   "codemirror_mode": {
    "name": "ipython",
    "version": 3
   },
   "file_extension": ".py",
   "mimetype": "text/x-python",
   "name": "python",
   "nbconvert_exporter": "python",
   "pygments_lexer": "ipython3",
   "version": "3.9.21"
  }
 },
 "nbformat": 4,
 "nbformat_minor": 5
}
